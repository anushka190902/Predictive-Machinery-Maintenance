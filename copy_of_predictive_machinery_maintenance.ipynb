{
  "cells": [
    {
      "cell_type": "markdown",
      "metadata": {
        "id": "view-in-github",
        "colab_type": "text"
      },
      "source": [
        "<a href=\"https://colab.research.google.com/github/anushka190902/Predictive-Machinery-Maintenance/blob/main/copy_of_predictive_machinery_maintenance.ipynb\" target=\"_parent\"><img src=\"https://colab.research.google.com/assets/colab-badge.svg\" alt=\"Open In Colab\"/></a>"
      ]
    },
    {
      "cell_type": "code",
      "execution_count": null,
      "metadata": {
        "colab": {
          "base_uri": "https://localhost:8080/"
        },
        "id": "6UAVeBIhU49d",
        "outputId": "7540f498-e993-42b1-b8b0-dd62e6a879b6"
      },
      "outputs": [
        {
          "name": "stdout",
          "output_type": "stream",
          "text": [
            "Collecting ucimlrepo\n",
            "  Downloading ucimlrepo-0.0.7-py3-none-any.whl.metadata (5.5 kB)\n",
            "Requirement already satisfied: pandas>=1.0.0 in /usr/local/lib/python3.10/dist-packages (from ucimlrepo) (2.2.2)\n",
            "Requirement already satisfied: certifi>=2020.12.5 in /usr/local/lib/python3.10/dist-packages (from ucimlrepo) (2024.8.30)\n",
            "Requirement already satisfied: numpy>=1.22.4 in /usr/local/lib/python3.10/dist-packages (from pandas>=1.0.0->ucimlrepo) (1.26.4)\n",
            "Requirement already satisfied: python-dateutil>=2.8.2 in /usr/local/lib/python3.10/dist-packages (from pandas>=1.0.0->ucimlrepo) (2.8.2)\n",
            "Requirement already satisfied: pytz>=2020.1 in /usr/local/lib/python3.10/dist-packages (from pandas>=1.0.0->ucimlrepo) (2024.2)\n",
            "Requirement already satisfied: tzdata>=2022.7 in /usr/local/lib/python3.10/dist-packages (from pandas>=1.0.0->ucimlrepo) (2024.2)\n",
            "Requirement already satisfied: six>=1.5 in /usr/local/lib/python3.10/dist-packages (from python-dateutil>=2.8.2->pandas>=1.0.0->ucimlrepo) (1.16.0)\n",
            "Downloading ucimlrepo-0.0.7-py3-none-any.whl (8.0 kB)\n",
            "Installing collected packages: ucimlrepo\n",
            "Successfully installed ucimlrepo-0.0.7\n"
          ]
        }
      ],
      "source": [
        "pip install ucimlrepo"
      ]
    },
    {
      "cell_type": "code",
      "execution_count": null,
      "metadata": {
        "colab": {
          "base_uri": "https://localhost:8080/"
        },
        "id": "hcEOWhx4Vlg2",
        "outputId": "f5556e1e-f32c-41f0-8237-1d3f96205d4f"
      },
      "outputs": [
        {
          "output_type": "stream",
          "name": "stdout",
          "text": [
            "   UDI Product ID Type  Air temperature [K]  Process temperature [K]  \\\n",
            "0    1     M14860    M                298.1                    308.6   \n",
            "1    2     L47181    L                298.2                    308.7   \n",
            "2    3     L47182    L                298.1                    308.5   \n",
            "3    4     L47183    L                298.2                    308.6   \n",
            "4    5     L47184    L                298.2                    308.7   \n",
            "5    6     M14865    M                298.1                    308.6   \n",
            "6    7     L47186    L                298.1                    308.6   \n",
            "7    8     L47187    L                298.1                    308.6   \n",
            "8    9     M14868    M                298.3                    308.7   \n",
            "9   10     M14869    M                298.5                    309.0   \n",
            "\n",
            "   Rotational speed [rpm]  Torque [Nm]  Tool wear [min]  Machine failure  TWF  \\\n",
            "0                    1551         42.8                0                0    0   \n",
            "1                    1408         46.3                3                0    0   \n",
            "2                    1498         49.4                5                0    0   \n",
            "3                    1433         39.5                7                0    0   \n",
            "4                    1408         40.0                9                0    0   \n",
            "5                    1425         41.9               11                0    0   \n",
            "6                    1558         42.4               14                0    0   \n",
            "7                    1527         40.2               16                0    0   \n",
            "8                    1667         28.6               18                0    0   \n",
            "9                    1741         28.0               21                0    0   \n",
            "\n",
            "   HDF  PWF  OSF  RNF  \n",
            "0    0    0    0    0  \n",
            "1    0    0    0    0  \n",
            "2    0    0    0    0  \n",
            "3    0    0    0    0  \n",
            "4    0    0    0    0  \n",
            "5    0    0    0    0  \n",
            "6    0    0    0    0  \n",
            "7    0    0    0    0  \n",
            "8    0    0    0    0  \n",
            "9    0    0    0    0  \n"
          ]
        }
      ],
      "source": [
        "import pandas as pd\n",
        "df=pd.read_csv(\"ai4i2020.csv\")\n",
        "print(df.head(10))\n",
        "#HDF: Heat Dissipation Failure. PWF: Power Failure, OSF: Overstain Failure, RNF: Random Failure, TWF: Tool WEar Failure"
      ]
    },
    {
      "cell_type": "code",
      "execution_count": null,
      "metadata": {
        "id": "KwAD-kBeYpfH"
      },
      "outputs": [],
      "source": [
        "import matplotlib.pyplot as plt\n",
        "x=df[\"Torque [Nm]\"]\n",
        "y=df[\"PWF\"]\n",
        "#plt.plot(x, y)\n",
        "#plt.show()"
      ]
    },
    {
      "cell_type": "code",
      "source": [
        "#logistic regression\n",
        "from sklearn.linear_model import LogisticRegression\n",
        "from sklearn.model_selection import train_test_split\n",
        "from sklearn.metrics import accuracy_score,classification_report,confusion_matrix\n",
        "x_2d = x.values.reshape(-1, 1)\n",
        "x_train, x_test,y_train, y_test = train_test_split(x_2d, y,test_size=0.20,random_state=23)\n",
        "clf = LogisticRegression(random_state=0)\n",
        "clf.fit(x_train, y_train)\n",
        "y_pred = clf.predict(x_test)\n",
        "\n",
        "acc = accuracy_score(y_test, y_pred)\n",
        "k=classification_report(y_test, y_pred)\n",
        "print(\"Classification Report: \\n\" ,k)\n",
        "print(\"Logistic Regression model accuracy (in %):\", acc*100)\n",
        "print(\"Confusion Matrix :\")\n",
        "print(confusion_matrix(y_test, y_pred))\n"
      ],
      "metadata": {
        "colab": {
          "base_uri": "https://localhost:8080/"
        },
        "id": "QjhDXI0y2LOp",
        "outputId": "eb47340d-11ab-46ba-aef3-862c9feebbb7"
      },
      "execution_count": null,
      "outputs": [
        {
          "output_type": "stream",
          "name": "stdout",
          "text": [
            "Classification Report: \n",
            "               precision    recall  f1-score   support\n",
            "\n",
            "           0       0.99      1.00      1.00      1981\n",
            "           1       0.00      0.00      0.00        19\n",
            "\n",
            "    accuracy                           0.99      2000\n",
            "   macro avg       0.50      0.50      0.50      2000\n",
            "weighted avg       0.98      0.99      0.99      2000\n",
            "\n",
            "Logistic Regression model accuracy (in %): 99.05000000000001\n",
            "Confusion Matrix :\n",
            "[[1981    0]\n",
            " [  19    0]]\n"
          ]
        }
      ]
    },
    {
      "cell_type": "code",
      "source": [
        "import shap\n",
        "import xgboost as xgb\n",
        "model = xgb.XGBRegressor()\n",
        "model.fit(x_train, y_train)\n",
        "\n",
        "# Save the XGBoost model in binary format\n",
        "model.save_model('model.json')\n",
        "\n",
        "# Load the model from the saved binary file\n",
        "loaded_model = xgb.XGBRegressor()\n",
        "loaded_model.load_model('model.json')\n",
        "\n",
        "# SHAP Explainer\n",
        "explainer = shap.Explainer(loaded_model)\n",
        "shap_values = explainer(x_test)\n",
        "shap.summary_plot(shap_values, x, plot_type=\"bar\")\n",
        "#shap.summary_plot(shap_values, x_test, plot_type=&quot;bar&quot;)"
      ],
      "metadata": {
        "colab": {
          "base_uri": "https://localhost:8080/",
          "height": 197
        },
        "id": "2QQPQHxLAYDD",
        "outputId": "9f2fe775-849e-491a-ca8b-8963fc0a4277"
      },
      "execution_count": null,
      "outputs": [
        {
          "output_type": "display_data",
          "data": {
            "text/plain": [
              "<Figure size 800x190 with 1 Axes>"
            ],
            "image/png": "[encoded data removed]"
          },
          "metadata": {}
        }
      ]
    },
    {
      "cell_type": "code",
      "source": [
        "#XGBoost\n",
        "xgb_train = xgb.DMatrix(x_train, y_train, enable_categorical=True)\n",
        "xgb_test = xgb.DMatrix(x_test, y_test, enable_categorical=True)\n",
        "n=50\n",
        "params = {\n",
        "\t'objective': 'binary:logistic',\n",
        "\t'max_depth': 3,\n",
        "\t'learning_rate': 0.1,\n",
        "}\n",
        "\n",
        "model = xgb.train(params=params,dtrain=xgb_train,num_boost_round=n)\n",
        "preds = model.predict(xgb_test)\n",
        "preds = preds.astype(int)\n",
        "accuracy= accuracy_score(y_test,preds)\n",
        "cf=classification_report(y_test, preds)\n",
        "\n",
        "print('Accuracy of the model is:', accuracy*100)\n",
        "print(\"Classification Report:\\n\",cf)\n",
        "print(\"Confusion Matrix :\")\n",
        "print(confusion_matrix(y_test, y_pred))\n"
      ],
      "metadata": {
        "colab": {
          "base_uri": "https://localhost:8080/"
        },
        "id": "W9eMWkdslv2O",
        "outputId": "b08aa1e6-cdd2-4bc7-f6d8-24289db7eaec"
      },
      "execution_count": null,
      "outputs": [
        {
          "output_type": "stream",
          "name": "stdout",
          "text": [
            "Accuracy of the model is: 99.05000000000001\n",
            "Classification Report:\n",
            "               precision    recall  f1-score   support\n",
            "\n",
            "           0       0.99      1.00      1.00      1981\n",
            "           1       0.00      0.00      0.00        19\n",
            "\n",
            "    accuracy                           0.99      2000\n",
            "   macro avg       0.50      0.50      0.50      2000\n",
            "weighted avg       0.98      0.99      0.99      2000\n",
            "\n",
            "Confusion Matrix :\n",
            "[[1981    0]\n",
            " [  19    0]]\n"
          ]
        }
      ]
    },
    {
      "cell_type": "code",
      "source": [
        "#RANDOM f\\FOREST\n",
        "from sklearn.ensemble import RandomForestClassifier\n",
        "from sklearn.metrics import accuracy_score, classification_report\n",
        "rf_classifier = RandomForestClassifier(n_estimators=100, random_state=42)\n",
        "rf_classifier.fit(x_train, y_train)\n",
        "y_pred = rf_classifier.predict(x_test)\n",
        "print(accuracy_score(y_test, y_pred)*100)\n",
        "print(\"Classification Report: \\n\",classification_report(y_test, y_pred))\n",
        "print(\"Confusion Matrix :\")\n",
        "print(confusion_matrix(y_test, y_pred))\n",
        "\n"
      ],
      "metadata": {
        "colab": {
          "base_uri": "https://localhost:8080/"
        },
        "id": "KNBq8EJTlyI8",
        "outputId": "b095f49f-e9e4-46f8-9221-5b53b8c5c99b"
      },
      "execution_count": null,
      "outputs": [
        {
          "output_type": "stream",
          "name": "stdout",
          "text": [
            "99.05000000000001\n",
            "Classification Report: \n",
            "               precision    recall  f1-score   support\n",
            "\n",
            "           0       0.99      1.00      1.00      1981\n",
            "           1       0.00      0.00      0.00        19\n",
            "\n",
            "    accuracy                           0.99      2000\n",
            "   macro avg       0.50      0.50      0.50      2000\n",
            "weighted avg       0.98      0.99      0.99      2000\n",
            "\n",
            "Confusion Matrix :\n",
            "[[1981    0]\n",
            " [  19    0]]\n"
          ]
        }
      ]
    }
  ],
  "metadata": {
    "colab": {
      "provenance": [],
      "authorship_tag": "ABX9TyPCc6nHztHLpV4HNYUkbMul",
      "include_colab_link": true
    },
    "kernelspec": {
      "display_name": "Python 3",
      "name": "python3"
    },
    "language_info": {
      "name": "python"
    }
  },
  "nbformat": 4,
  "nbformat_minor": 0
}